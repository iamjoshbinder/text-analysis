{
 "cells": [
  {
   "cell_type": "markdown",
   "metadata": {},
   "source": [
    "### How to install R packages using IPython notebook"
   ]
  },
  {
   "cell_type": "code",
   "execution_count": 2,
   "metadata": {},
   "outputs": [
    {
     "name": "stderr",
     "output_type": "stream",
     "text": [
      "Installing package into 'C:/Users/ashish.dutt/Documents/R/win-library/3.4'\n",
      "(as 'lib' is unspecified)\n"
     ]
    },
    {
     "ename": "ERROR",
     "evalue": "Error in contrib.url(repos, \"source\"): trying to use CRAN without setting a mirror\n",
     "output_type": "error",
     "traceback": [
      "Error in contrib.url(repos, \"source\"): trying to use CRAN without setting a mirror\nTraceback:\n",
      "1. install.packages(\"foreign\")",
      "2. contrib.url(repos, \"source\")",
      "3. stop(\"trying to use CRAN without setting a mirror\")"
     ]
    }
   ],
   "source": [
    "!pip install foreign"
   ]
  },
  {
   "cell_type": "markdown",
   "metadata": {},
   "source": [
    "#### Setting up a CRAN Mirror"
   ]
  },
  {
   "cell_type": "code",
   "execution_count": 4,
   "metadata": {
    "collapsed": true
   },
   "outputs": [],
   "source": [
    "country.code <- 'my'  # my is for Malaysia. use your country code if your outside Malaysia\n",
    "url.pattern <- 'https://'  # use http if you want\n",
    "repo.data.frame <- subset(getCRANmirrors(), CountryCode == country.code & grepl(url.pattern, URL))\n",
    "options(repos = repo.data.frame$URL)"
   ]
  },
  {
   "cell_type": "code",
   "execution_count": 5,
   "metadata": {},
   "outputs": [
    {
     "name": "stderr",
     "output_type": "stream",
     "text": [
      "Installing package into 'C:/Users/ashish.dutt/Documents/R/win-library/3.4'\n",
      "(as 'lib' is unspecified)\n",
      "also installing the dependencies 'bitops', 'slam', 'RcppParallel', 'RSpectra', 'fastmatch', 'RcppArmadillo', 'highr', 'markdown', 'caTools', 'praise', 'rJava', 'XML', 'tm', 'quanteda', 'wordcloud', 'knitr', 'rmarkdown', 'topicmodels', 'NLP', 'testthat', 'mallet'\n",
      "\n"
     ]
    },
    {
     "name": "stdout",
     "output_type": "stream",
     "text": [
      "package 'bitops' successfully unpacked and MD5 sums checked\n",
      "package 'slam' successfully unpacked and MD5 sums checked\n",
      "package 'RcppParallel' successfully unpacked and MD5 sums checked\n",
      "package 'RSpectra' successfully unpacked and MD5 sums checked\n",
      "package 'fastmatch' successfully unpacked and MD5 sums checked\n",
      "package 'RcppArmadillo' successfully unpacked and MD5 sums checked\n",
      "package 'highr' successfully unpacked and MD5 sums checked\n",
      "package 'markdown' successfully unpacked and MD5 sums checked\n",
      "package 'caTools' successfully unpacked and MD5 sums checked\n",
      "package 'praise' successfully unpacked and MD5 sums checked\n",
      "package 'rJava' successfully unpacked and MD5 sums checked\n",
      "package 'XML' successfully unpacked and MD5 sums checked\n",
      "package 'tm' successfully unpacked and MD5 sums checked\n",
      "package 'quanteda' successfully unpacked and MD5 sums checked\n",
      "package 'wordcloud' successfully unpacked and MD5 sums checked\n",
      "package 'knitr' successfully unpacked and MD5 sums checked\n",
      "package 'rmarkdown' successfully unpacked and MD5 sums checked\n",
      "package 'topicmodels' successfully unpacked and MD5 sums checked\n",
      "package 'NLP' successfully unpacked and MD5 sums checked\n",
      "package 'testthat' successfully unpacked and MD5 sums checked\n",
      "package 'mallet' successfully unpacked and MD5 sums checked\n",
      "package 'tidytext' successfully unpacked and MD5 sums checked\n",
      "\n",
      "The downloaded binary packages are in\n",
      "\tC:\\Users\\ashish.dutt\\AppData\\Local\\Temp\\Rtmp6DVr3z\\downloaded_packages\n"
     ]
    }
   ],
   "source": [
    "install.packages('tidytext', dep = TRUE)"
   ]
  },
  {
   "cell_type": "code",
   "execution_count": null,
   "metadata": {
    "collapsed": true
   },
   "outputs": [],
   "source": []
  }
 ],
 "metadata": {
  "kernelspec": {
   "display_name": "R",
   "language": "R",
   "name": "ir"
  },
  "language_info": {
   "codemirror_mode": "r",
   "file_extension": ".r",
   "mimetype": "text/x-r-source",
   "name": "R",
   "pygments_lexer": "r",
   "version": "3.4.1"
  }
 },
 "nbformat": 4,
 "nbformat_minor": 2
}
